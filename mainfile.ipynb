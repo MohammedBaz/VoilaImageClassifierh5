{
  "nbformat": 4,
  "nbformat_minor": 0,
  "metadata": {
    "colab": {
      "name": "Untitled315.ipynb",
      "provenance": [],
      "authorship_tag": "ABX9TyNJa8aW8Rgw6oW7upPWcoJq",
      "include_colab_link": true
    },
    "kernelspec": {
      "name": "python3",
      "display_name": "Python 3"
    },
    "language_info": {
      "name": "python"
    },
    "widgets": {
      "application/vnd.jupyter.widget-state+json": {
        "19415f35c15d49ee9ed7c668b1446c02": {
          "model_module": "@jupyter-widgets/controls",
          "model_name": "FileUploadModel",
          "model_module_version": "1.5.0",
          "state": {
            "_view_name": "FileUploadView",
            "_counter": 1,
            "style": "IPY_MODEL_0eb4f42591cc42e89ae00e3c18aea6a8",
            "_dom_classes": [],
            "description": "Upload",
            "multiple": false,
            "_model_name": "FileUploadModel",
            "data": [
              null
            ],
            "button_style": "",
            "_view_module": "@jupyter-widgets/controls",
            "_model_module_version": "1.5.0",
            "accept": "",
            "_view_count": null,
            "disabled": false,
            "_view_module_version": "1.5.0",
            "error": "",
            "description_tooltip": null,
            "metadata": [
              {
                "name": "616_1_1385303824.jpg",
                "type": "image/jpeg",
                "size": 70430,
                "lastModified": 1390542438460
              }
            ],
            "_model_module": "@jupyter-widgets/controls",
            "layout": "IPY_MODEL_67b2a240af5644d8953d5872ed3fd1a4",
            "icon": "upload"
          }
        },
        "0eb4f42591cc42e89ae00e3c18aea6a8": {
          "model_module": "@jupyter-widgets/controls",
          "model_name": "ButtonStyleModel",
          "model_module_version": "1.5.0",
          "state": {
            "_view_name": "StyleView",
            "_model_name": "ButtonStyleModel",
            "_view_module": "@jupyter-widgets/base",
            "_model_module_version": "1.5.0",
            "_view_count": null,
            "button_color": null,
            "font_weight": "",
            "_view_module_version": "1.2.0",
            "_model_module": "@jupyter-widgets/controls"
          }
        },
        "67b2a240af5644d8953d5872ed3fd1a4": {
          "model_module": "@jupyter-widgets/base",
          "model_name": "LayoutModel",
          "model_module_version": "1.2.0",
          "state": {
            "_view_name": "LayoutView",
            "grid_template_rows": null,
            "right": null,
            "justify_content": null,
            "_view_module": "@jupyter-widgets/base",
            "overflow": null,
            "_model_module_version": "1.2.0",
            "_view_count": null,
            "flex_flow": null,
            "width": null,
            "min_width": null,
            "border": null,
            "align_items": null,
            "bottom": null,
            "_model_module": "@jupyter-widgets/base",
            "top": null,
            "grid_column": null,
            "overflow_y": null,
            "overflow_x": null,
            "grid_auto_flow": null,
            "grid_area": null,
            "grid_template_columns": null,
            "flex": null,
            "_model_name": "LayoutModel",
            "justify_items": null,
            "grid_row": null,
            "max_height": null,
            "align_content": null,
            "visibility": null,
            "align_self": null,
            "height": null,
            "min_height": null,
            "padding": null,
            "grid_auto_rows": null,
            "grid_gap": null,
            "max_width": null,
            "order": null,
            "_view_module_version": "1.2.0",
            "grid_template_areas": null,
            "object_position": null,
            "object_fit": null,
            "grid_auto_columns": null,
            "margin": null,
            "display": null,
            "left": null
          }
        }
      }
    }
  },
  "cells": [
    {
      "cell_type": "markdown",
      "metadata": {
        "id": "view-in-github",
        "colab_type": "text"
      },
      "source": [
        "<a href=\"https://colab.research.google.com/github/MohammedBaz/VoilaImageClassifierh5/blob/main/mainfile.ipynb\" target=\"_parent\"><img src=\"https://colab.research.google.com/assets/colab-badge.svg\" alt=\"Open In Colab\"/></a>"
      ]
    },
    {
      "cell_type": "code",
      "metadata": {
        "colab": {
          "base_uri": "https://localhost:8080/",
          "height": 49,
          "referenced_widgets": [
            "19415f35c15d49ee9ed7c668b1446c02",
            "0eb4f42591cc42e89ae00e3c18aea6a8",
            "67b2a240af5644d8953d5872ed3fd1a4"
          ]
        },
        "id": "FGTzDIir1Uu9",
        "outputId": "2dd841e4-5c5d-45d1-9d3a-b6feeb739e48"
      },
      "source": [
        "import ipywidgets as widgets\n",
        "uploader = widgets.FileUpload()\n",
        "uploader"
      ],
      "execution_count": null,
      "outputs": [
        {
          "output_type": "display_data",
          "data": {
            "application/vnd.jupyter.widget-view+json": {
              "model_id": "19415f35c15d49ee9ed7c668b1446c02",
              "version_minor": 0,
              "version_major": 2
            },
            "text/plain": [
              "FileUpload(value={}, description='Upload')"
            ]
          },
          "metadata": {}
        }
      ]
    },
    {
      "cell_type": "code",
      "metadata": {
        "id": "DjHsU02k3WP0"
      },
      "source": [
        "import io\n",
        "from PIL import Image,ImageOps\n",
        "for name, file_info in uploader.value.items():\n",
        "  img = Image.open(io.BytesIO(file_info['content']))\n",
        "img \n"
      ],
      "execution_count": null,
      "outputs": []
    },
    {
      "cell_type": "code",
      "metadata": {
        "id": "JZSu9e7E3YBL"
      },
      "source": [
        "import numpy as np \n",
        "import keras \n",
        "\n",
        "model = keras.models.load_model(\"model.h5\")\n",
        "size = (299, 299) #define the size of the image\n",
        " \n",
        "\n",
        "ximg = ImageOps.fit(img, size, Image.ANTIALIAS) #use ImageOps to fit the image into the size that suit the model.\n",
        "ximg = ImageOps.grayscale(ximg)         #convert the given image into grayscale\n",
        "ximg = np.asarray(ximg)                 #convert image into array \n",
        "ximg =ximg.reshape(1,299,299,1)         #rescale it into the shape expected by model.predict() before calling it \n",
        "prediction = model.predict(ximg)\n",
        "print(prediction)"
      ],
      "execution_count": null,
      "outputs": []
    }
  ]
}
